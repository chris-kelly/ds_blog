{
 "cells": [
  {
   "cell_type": "markdown",
   "metadata": {},
   "source": [
    "# Why is $\\frac{d}{dx} \\left(x^{n} \\right) = nx^{n-1}$ ?"
   ]
  },
  {
   "cell_type": "markdown",
   "metadata": {},
   "source": [
    "We can thus think of the gradient between $x$ and $a$ being equal to the change in the y axis divided by the change in the x axis, i.e.\n",
    "\n",
    "$$\n",
    "\\frac{\\Delta y}{\\Delta x} =\n",
    "\\frac{f(x)-f(a)}{x-a} = \n",
    "\\frac{x^n-a^n}{x-a}\n",
    "$$\n",
    "\n",
    "This isn't quite exact - there is a gap between this linear approximation and the exact curve. However, the smaller the movement across the x-axis, the closer the approximation is to the actual curve."
   ]
  },
  {
   "cell_type": "markdown",
   "metadata": {},
   "source": [
    "For example, in the graph below, the line drawn between $f(1)$ and $f(2)$ is closer to the gradient at $f(1)$ of the true curve, compared to the line drawn between $f(1)$ and $f(3)$."
   ]
  },
  {
   "cell_type": "code",
   "execution_count": 1,
   "metadata": {},
   "outputs": [
    {
     "data": {
      "application/vnd.plotly.v1+json": {
       "config": {
        "plotlyServerURL": "https://plot.ly"
       },
       "data": [
        {
         "mode": "lines",
         "type": "scatter"
        },
        {
         "line": {
          "dash": "solid"
         },
         "name": "f(x)=x^3",
         "type": "scatter",
         "x": [
          0,
          0.1,
          0.2,
          0.30000000000000004,
          0.4,
          0.5,
          0.6000000000000001,
          0.7000000000000001,
          0.8,
          0.9,
          1,
          1.1,
          1.2000000000000002,
          1.3,
          1.4000000000000001,
          1.5,
          1.6,
          1.7000000000000002,
          1.8,
          1.9000000000000001,
          2,
          2.1,
          2.2,
          2.3000000000000003,
          2.4000000000000004,
          2.5,
          2.6,
          2.7,
          2.8000000000000003,
          2.9000000000000004,
          3,
          3.1,
          3.2,
          3.3000000000000003,
          3.4000000000000004,
          3.5,
          3.6,
          3.7,
          3.8000000000000003,
          3.9000000000000004
         ],
         "y": [
          0,
          0.0010000000000000002,
          0.008000000000000002,
          0.027000000000000014,
          0.06400000000000002,
          0.125,
          0.2160000000000001,
          0.3430000000000001,
          0.5120000000000001,
          0.7290000000000001,
          1,
          1.3310000000000004,
          1.7280000000000009,
          2.197,
          2.7440000000000007,
          3.375,
          4.096000000000001,
          4.913000000000001,
          5.832000000000001,
          6.859000000000002,
          8,
          9.261000000000001,
          10.648000000000003,
          12.167000000000003,
          13.824000000000007,
          15.625,
          17.576,
          19.683000000000003,
          21.952000000000005,
          24.38900000000001,
          27,
          29.791000000000004,
          32.76800000000001,
          35.93700000000001,
          39.30400000000001,
          42.875,
          46.656000000000006,
          50.653000000000006,
          54.872000000000014,
          59.31900000000002
         ]
        },
        {
         "line": {
          "dash": "dot"
         },
         "name": "f(1) -> f(3.5)",
         "type": "scatter",
         "x": [
          1,
          1.0510204081632653,
          1.1020408163265305,
          1.153061224489796,
          1.2040816326530612,
          1.2551020408163265,
          1.306122448979592,
          1.3571428571428572,
          1.4081632653061225,
          1.4591836734693877,
          1.510204081632653,
          1.5612244897959184,
          1.6122448979591837,
          1.663265306122449,
          1.7142857142857144,
          1.7653061224489797,
          1.816326530612245,
          1.8673469387755102,
          1.9183673469387754,
          1.969387755102041,
          2.020408163265306,
          2.071428571428571,
          2.122448979591837,
          2.173469387755102,
          2.2244897959183674,
          2.2755102040816326,
          2.326530612244898,
          2.3775510204081636,
          2.428571428571429,
          2.479591836734694,
          2.5306122448979593,
          2.5816326530612246,
          2.63265306122449,
          2.683673469387755,
          2.7346938775510203,
          2.7857142857142856,
          2.836734693877551,
          2.887755102040816,
          2.938775510204082,
          2.989795918367347,
          3.0408163265306123,
          3.0918367346938775,
          3.142857142857143,
          3.193877551020408,
          3.2448979591836737,
          3.295918367346939,
          3.3469387755102042,
          3.3979591836734695,
          3.4489795918367347,
          3.5
         ],
         "y": [
          1,
          1.8545918367346914,
          2.7091836734693864,
          3.5637755102040813,
          4.418367346938776,
          5.272959183673468,
          6.127551020408166,
          6.982142857142858,
          7.836734693877553,
          8.691326530612244,
          9.545918367346935,
          10.400510204081634,
          11.255102040816325,
          12.10969387755102,
          12.964285714285715,
          13.81887755102041,
          14.673469387755102,
          15.528061224489797,
          16.382653061224488,
          17.237244897959187,
          18.09183673469387,
          18.94642857142857,
          19.801020408163268,
          20.65561224489796,
          21.51020408163265,
          22.36479591836735,
          23.21938775510204,
          24.07397959183674,
          24.92857142857143,
          25.78316326530613,
          26.63775510204082,
          27.492346938775512,
          28.346938775510203,
          29.201530612244895,
          30.056122448979593,
          30.910714285714285,
          31.765306122448976,
          32.61989795918367,
          33.47448979591837,
          34.329081632653065,
          35.183673469387756,
          36.03826530612245,
          36.89285714285714,
          37.74744897959184,
          38.602040816326536,
          39.45663265306123,
          40.31122448979592,
          41.16581632653062,
          42.02040816326531,
          42.875
         ]
        },
        {
         "line": {
          "dash": "dot"
         },
         "name": "f(1) -> f(3)",
         "type": "scatter",
         "x": [
          1,
          1.0408163265306123,
          1.0816326530612246,
          1.1224489795918366,
          1.163265306122449,
          1.2040816326530612,
          1.2448979591836735,
          1.2857142857142856,
          1.3265306122448979,
          1.3673469387755102,
          1.4081632653061225,
          1.4489795918367347,
          1.489795918367347,
          1.530612244897959,
          1.5714285714285714,
          1.6122448979591835,
          1.6530612244897958,
          1.693877551020408,
          1.7346938775510203,
          1.7755102040816326,
          1.816326530612245,
          1.8571428571428572,
          1.8979591836734693,
          1.9387755102040816,
          1.9795918367346939,
          2.020408163265306,
          2.061224489795918,
          2.1020408163265305,
          2.142857142857143,
          2.183673469387755,
          2.224489795918367,
          2.2653061224489797,
          2.3061224489795915,
          2.3469387755102042,
          2.387755102040816,
          2.4285714285714284,
          2.4693877551020407,
          2.510204081632653,
          2.5510204081632653,
          2.591836734693877,
          2.63265306122449,
          2.6734693877551017,
          2.7142857142857144,
          2.7551020408163263,
          2.7959183673469385,
          2.836734693877551,
          2.877551020408163,
          2.9183673469387754,
          2.9591836734693877,
          3
         ],
         "y": [
          1,
          1.5306122448979593,
          2.0612244897959187,
          2.591836734693876,
          3.1224489795918355,
          3.6530612244897966,
          4.183673469387756,
          4.714285714285712,
          5.244897959183671,
          5.775510204081634,
          6.306122448979593,
          6.836734693877553,
          7.367346938775512,
          7.897959183673468,
          8.428571428571427,
          8.959183673469386,
          9.489795918367346,
          10.020408163265305,
          10.551020408163264,
          11.081632653061224,
          11.612244897959183,
          12.142857142857142,
          12.673469387755102,
          13.204081632653061,
          13.73469387755102,
          14.265306122448976,
          14.795918367346935,
          15.326530612244895,
          15.857142857142858,
          16.387755102040817,
          16.91836734693877,
          17.448979591836736,
          17.97959183673469,
          18.510204081632654,
          19.04081632653061,
          19.57142857142857,
          20.10204081632653,
          20.632653061224488,
          21.163265306122447,
          21.6938775510204,
          22.224489795918366,
          22.755102040816325,
          23.285714285714285,
          23.816326530612244,
          24.346938775510203,
          24.877551020408163,
          25.408163265306122,
          25.93877551020408,
          26.46938775510204,
          27
         ]
        },
        {
         "line": {
          "dash": "dot"
         },
         "name": "f(1) -> f(2)",
         "type": "scatter",
         "x": [
          1,
          1.0204081632653061,
          1.0408163265306123,
          1.0612244897959184,
          1.0816326530612246,
          1.1020408163265305,
          1.1224489795918366,
          1.1428571428571428,
          1.163265306122449,
          1.183673469387755,
          1.2040816326530612,
          1.2244897959183674,
          1.2448979591836735,
          1.2653061224489797,
          1.2857142857142856,
          1.3061224489795917,
          1.3265306122448979,
          1.346938775510204,
          1.3673469387755102,
          1.3877551020408163,
          1.4081632653061225,
          1.4285714285714286,
          1.4489795918367347,
          1.4693877551020407,
          1.489795918367347,
          1.510204081632653,
          1.530612244897959,
          1.5510204081632653,
          1.5714285714285714,
          1.5918367346938775,
          1.6122448979591835,
          1.6326530612244898,
          1.6530612244897958,
          1.6734693877551021,
          1.693877551020408,
          1.7142857142857142,
          1.7346938775510203,
          1.7551020408163265,
          1.7755102040816326,
          1.7959183673469385,
          1.816326530612245,
          1.8367346938775508,
          1.8571428571428572,
          1.8775510204081631,
          1.8979591836734693,
          1.9183673469387754,
          1.9387755102040816,
          1.9591836734693877,
          1.9795918367346939,
          2
         ],
         "y": [
          1,
          1.1428571428571432,
          1.2857142857142865,
          1.4285714285714288,
          1.571428571428572,
          1.7142857142857135,
          1.8571428571428568,
          2,
          2.1428571428571423,
          2.2857142857142847,
          2.428571428571429,
          2.571428571428571,
          2.7142857142857153,
          2.8571428571428577,
          3,
          3.1428571428571423,
          3.2857142857142847,
          3.428571428571429,
          3.571428571428571,
          3.7142857142857135,
          3.8571428571428577,
          4,
          4.142857142857142,
          4.285714285714285,
          4.428571428571429,
          4.571428571428571,
          4.7142857142857135,
          4.857142857142858,
          5,
          5.142857142857142,
          5.285714285714285,
          5.428571428571429,
          5.571428571428569,
          5.714285714285715,
          5.857142857142856,
          6,
          6.142857142857142,
          6.285714285714285,
          6.428571428571429,
          6.571428571428569,
          6.714285714285715,
          6.857142857142856,
          7,
          7.142857142857142,
          7.285714285714285,
          7.428571428571427,
          7.571428571428571,
          7.7142857142857135,
          7.857142857142858,
          8
         ]
        }
       ],
       "layout": {
        "template": {
         "data": {
          "bar": [
           {
            "error_x": {
             "color": "#2a3f5f"
            },
            "error_y": {
             "color": "#2a3f5f"
            },
            "marker": {
             "line": {
              "color": "#E5ECF6",
              "width": 0.5
             },
             "pattern": {
              "fillmode": "overlay",
              "size": 10,
              "solidity": 0.2
             }
            },
            "type": "bar"
           }
          ],
          "barpolar": [
           {
            "marker": {
             "line": {
              "color": "#E5ECF6",
              "width": 0.5
             },
             "pattern": {
              "fillmode": "overlay",
              "size": 10,
              "solidity": 0.2
             }
            },
            "type": "barpolar"
           }
          ],
          "carpet": [
           {
            "aaxis": {
             "endlinecolor": "#2a3f5f",
             "gridcolor": "white",
             "linecolor": "white",
             "minorgridcolor": "white",
             "startlinecolor": "#2a3f5f"
            },
            "baxis": {
             "endlinecolor": "#2a3f5f",
             "gridcolor": "white",
             "linecolor": "white",
             "minorgridcolor": "white",
             "startlinecolor": "#2a3f5f"
            },
            "type": "carpet"
           }
          ],
          "choropleth": [
           {
            "colorbar": {
             "outlinewidth": 0,
             "ticks": ""
            },
            "type": "choropleth"
           }
          ],
          "contour": [
           {
            "colorbar": {
             "outlinewidth": 0,
             "ticks": ""
            },
            "colorscale": [
             [
              0,
              "#0d0887"
             ],
             [
              0.1111111111111111,
              "#46039f"
             ],
             [
              0.2222222222222222,
              "#7201a8"
             ],
             [
              0.3333333333333333,
              "#9c179e"
             ],
             [
              0.4444444444444444,
              "#bd3786"
             ],
             [
              0.5555555555555556,
              "#d8576b"
             ],
             [
              0.6666666666666666,
              "#ed7953"
             ],
             [
              0.7777777777777778,
              "#fb9f3a"
             ],
             [
              0.8888888888888888,
              "#fdca26"
             ],
             [
              1,
              "#f0f921"
             ]
            ],
            "type": "contour"
           }
          ],
          "contourcarpet": [
           {
            "colorbar": {
             "outlinewidth": 0,
             "ticks": ""
            },
            "type": "contourcarpet"
           }
          ],
          "heatmap": [
           {
            "colorbar": {
             "outlinewidth": 0,
             "ticks": ""
            },
            "colorscale": [
             [
              0,
              "#0d0887"
             ],
             [
              0.1111111111111111,
              "#46039f"
             ],
             [
              0.2222222222222222,
              "#7201a8"
             ],
             [
              0.3333333333333333,
              "#9c179e"
             ],
             [
              0.4444444444444444,
              "#bd3786"
             ],
             [
              0.5555555555555556,
              "#d8576b"
             ],
             [
              0.6666666666666666,
              "#ed7953"
             ],
             [
              0.7777777777777778,
              "#fb9f3a"
             ],
             [
              0.8888888888888888,
              "#fdca26"
             ],
             [
              1,
              "#f0f921"
             ]
            ],
            "type": "heatmap"
           }
          ],
          "heatmapgl": [
           {
            "colorbar": {
             "outlinewidth": 0,
             "ticks": ""
            },
            "colorscale": [
             [
              0,
              "#0d0887"
             ],
             [
              0.1111111111111111,
              "#46039f"
             ],
             [
              0.2222222222222222,
              "#7201a8"
             ],
             [
              0.3333333333333333,
              "#9c179e"
             ],
             [
              0.4444444444444444,
              "#bd3786"
             ],
             [
              0.5555555555555556,
              "#d8576b"
             ],
             [
              0.6666666666666666,
              "#ed7953"
             ],
             [
              0.7777777777777778,
              "#fb9f3a"
             ],
             [
              0.8888888888888888,
              "#fdca26"
             ],
             [
              1,
              "#f0f921"
             ]
            ],
            "type": "heatmapgl"
           }
          ],
          "histogram": [
           {
            "marker": {
             "pattern": {
              "fillmode": "overlay",
              "size": 10,
              "solidity": 0.2
             }
            },
            "type": "histogram"
           }
          ],
          "histogram2d": [
           {
            "colorbar": {
             "outlinewidth": 0,
             "ticks": ""
            },
            "colorscale": [
             [
              0,
              "#0d0887"
             ],
             [
              0.1111111111111111,
              "#46039f"
             ],
             [
              0.2222222222222222,
              "#7201a8"
             ],
             [
              0.3333333333333333,
              "#9c179e"
             ],
             [
              0.4444444444444444,
              "#bd3786"
             ],
             [
              0.5555555555555556,
              "#d8576b"
             ],
             [
              0.6666666666666666,
              "#ed7953"
             ],
             [
              0.7777777777777778,
              "#fb9f3a"
             ],
             [
              0.8888888888888888,
              "#fdca26"
             ],
             [
              1,
              "#f0f921"
             ]
            ],
            "type": "histogram2d"
           }
          ],
          "histogram2dcontour": [
           {
            "colorbar": {
             "outlinewidth": 0,
             "ticks": ""
            },
            "colorscale": [
             [
              0,
              "#0d0887"
             ],
             [
              0.1111111111111111,
              "#46039f"
             ],
             [
              0.2222222222222222,
              "#7201a8"
             ],
             [
              0.3333333333333333,
              "#9c179e"
             ],
             [
              0.4444444444444444,
              "#bd3786"
             ],
             [
              0.5555555555555556,
              "#d8576b"
             ],
             [
              0.6666666666666666,
              "#ed7953"
             ],
             [
              0.7777777777777778,
              "#fb9f3a"
             ],
             [
              0.8888888888888888,
              "#fdca26"
             ],
             [
              1,
              "#f0f921"
             ]
            ],
            "type": "histogram2dcontour"
           }
          ],
          "mesh3d": [
           {
            "colorbar": {
             "outlinewidth": 0,
             "ticks": ""
            },
            "type": "mesh3d"
           }
          ],
          "parcoords": [
           {
            "line": {
             "colorbar": {
              "outlinewidth": 0,
              "ticks": ""
             }
            },
            "type": "parcoords"
           }
          ],
          "pie": [
           {
            "automargin": true,
            "type": "pie"
           }
          ],
          "scatter": [
           {
            "fillpattern": {
             "fillmode": "overlay",
             "size": 10,
             "solidity": 0.2
            },
            "type": "scatter"
           }
          ],
          "scatter3d": [
           {
            "line": {
             "colorbar": {
              "outlinewidth": 0,
              "ticks": ""
             }
            },
            "marker": {
             "colorbar": {
              "outlinewidth": 0,
              "ticks": ""
             }
            },
            "type": "scatter3d"
           }
          ],
          "scattercarpet": [
           {
            "marker": {
             "colorbar": {
              "outlinewidth": 0,
              "ticks": ""
             }
            },
            "type": "scattercarpet"
           }
          ],
          "scattergeo": [
           {
            "marker": {
             "colorbar": {
              "outlinewidth": 0,
              "ticks": ""
             }
            },
            "type": "scattergeo"
           }
          ],
          "scattergl": [
           {
            "marker": {
             "colorbar": {
              "outlinewidth": 0,
              "ticks": ""
             }
            },
            "type": "scattergl"
           }
          ],
          "scattermapbox": [
           {
            "marker": {
             "colorbar": {
              "outlinewidth": 0,
              "ticks": ""
             }
            },
            "type": "scattermapbox"
           }
          ],
          "scatterpolar": [
           {
            "marker": {
             "colorbar": {
              "outlinewidth": 0,
              "ticks": ""
             }
            },
            "type": "scatterpolar"
           }
          ],
          "scatterpolargl": [
           {
            "marker": {
             "colorbar": {
              "outlinewidth": 0,
              "ticks": ""
             }
            },
            "type": "scatterpolargl"
           }
          ],
          "scatterternary": [
           {
            "marker": {
             "colorbar": {
              "outlinewidth": 0,
              "ticks": ""
             }
            },
            "type": "scatterternary"
           }
          ],
          "surface": [
           {
            "colorbar": {
             "outlinewidth": 0,
             "ticks": ""
            },
            "colorscale": [
             [
              0,
              "#0d0887"
             ],
             [
              0.1111111111111111,
              "#46039f"
             ],
             [
              0.2222222222222222,
              "#7201a8"
             ],
             [
              0.3333333333333333,
              "#9c179e"
             ],
             [
              0.4444444444444444,
              "#bd3786"
             ],
             [
              0.5555555555555556,
              "#d8576b"
             ],
             [
              0.6666666666666666,
              "#ed7953"
             ],
             [
              0.7777777777777778,
              "#fb9f3a"
             ],
             [
              0.8888888888888888,
              "#fdca26"
             ],
             [
              1,
              "#f0f921"
             ]
            ],
            "type": "surface"
           }
          ],
          "table": [
           {
            "cells": {
             "fill": {
              "color": "#EBF0F8"
             },
             "line": {
              "color": "white"
             }
            },
            "header": {
             "fill": {
              "color": "#C8D4E3"
             },
             "line": {
              "color": "white"
             }
            },
            "type": "table"
           }
          ]
         },
         "layout": {
          "annotationdefaults": {
           "arrowcolor": "#2a3f5f",
           "arrowhead": 0,
           "arrowwidth": 1
          },
          "autotypenumbers": "strict",
          "coloraxis": {
           "colorbar": {
            "outlinewidth": 0,
            "ticks": ""
           }
          },
          "colorscale": {
           "diverging": [
            [
             0,
             "#8e0152"
            ],
            [
             0.1,
             "#c51b7d"
            ],
            [
             0.2,
             "#de77ae"
            ],
            [
             0.3,
             "#f1b6da"
            ],
            [
             0.4,
             "#fde0ef"
            ],
            [
             0.5,
             "#f7f7f7"
            ],
            [
             0.6,
             "#e6f5d0"
            ],
            [
             0.7,
             "#b8e186"
            ],
            [
             0.8,
             "#7fbc41"
            ],
            [
             0.9,
             "#4d9221"
            ],
            [
             1,
             "#276419"
            ]
           ],
           "sequential": [
            [
             0,
             "#0d0887"
            ],
            [
             0.1111111111111111,
             "#46039f"
            ],
            [
             0.2222222222222222,
             "#7201a8"
            ],
            [
             0.3333333333333333,
             "#9c179e"
            ],
            [
             0.4444444444444444,
             "#bd3786"
            ],
            [
             0.5555555555555556,
             "#d8576b"
            ],
            [
             0.6666666666666666,
             "#ed7953"
            ],
            [
             0.7777777777777778,
             "#fb9f3a"
            ],
            [
             0.8888888888888888,
             "#fdca26"
            ],
            [
             1,
             "#f0f921"
            ]
           ],
           "sequentialminus": [
            [
             0,
             "#0d0887"
            ],
            [
             0.1111111111111111,
             "#46039f"
            ],
            [
             0.2222222222222222,
             "#7201a8"
            ],
            [
             0.3333333333333333,
             "#9c179e"
            ],
            [
             0.4444444444444444,
             "#bd3786"
            ],
            [
             0.5555555555555556,
             "#d8576b"
            ],
            [
             0.6666666666666666,
             "#ed7953"
            ],
            [
             0.7777777777777778,
             "#fb9f3a"
            ],
            [
             0.8888888888888888,
             "#fdca26"
            ],
            [
             1,
             "#f0f921"
            ]
           ]
          },
          "colorway": [
           "#636efa",
           "#EF553B",
           "#00cc96",
           "#ab63fa",
           "#FFA15A",
           "#19d3f3",
           "#FF6692",
           "#B6E880",
           "#FF97FF",
           "#FECB52"
          ],
          "font": {
           "color": "#2a3f5f"
          },
          "geo": {
           "bgcolor": "white",
           "lakecolor": "white",
           "landcolor": "#E5ECF6",
           "showlakes": true,
           "showland": true,
           "subunitcolor": "white"
          },
          "hoverlabel": {
           "align": "left"
          },
          "hovermode": "closest",
          "mapbox": {
           "style": "light"
          },
          "paper_bgcolor": "white",
          "plot_bgcolor": "#E5ECF6",
          "polar": {
           "angularaxis": {
            "gridcolor": "white",
            "linecolor": "white",
            "ticks": ""
           },
           "bgcolor": "#E5ECF6",
           "radialaxis": {
            "gridcolor": "white",
            "linecolor": "white",
            "ticks": ""
           }
          },
          "scene": {
           "xaxis": {
            "backgroundcolor": "#E5ECF6",
            "gridcolor": "white",
            "gridwidth": 2,
            "linecolor": "white",
            "showbackground": true,
            "ticks": "",
            "zerolinecolor": "white"
           },
           "yaxis": {
            "backgroundcolor": "#E5ECF6",
            "gridcolor": "white",
            "gridwidth": 2,
            "linecolor": "white",
            "showbackground": true,
            "ticks": "",
            "zerolinecolor": "white"
           },
           "zaxis": {
            "backgroundcolor": "#E5ECF6",
            "gridcolor": "white",
            "gridwidth": 2,
            "linecolor": "white",
            "showbackground": true,
            "ticks": "",
            "zerolinecolor": "white"
           }
          },
          "shapedefaults": {
           "line": {
            "color": "#2a3f5f"
           }
          },
          "ternary": {
           "aaxis": {
            "gridcolor": "white",
            "linecolor": "white",
            "ticks": ""
           },
           "baxis": {
            "gridcolor": "white",
            "linecolor": "white",
            "ticks": ""
           },
           "bgcolor": "#E5ECF6",
           "caxis": {
            "gridcolor": "white",
            "linecolor": "white",
            "ticks": ""
           }
          },
          "title": {
           "x": 0.05
          },
          "xaxis": {
           "automargin": true,
           "gridcolor": "white",
           "linecolor": "white",
           "ticks": "",
           "title": {
            "standoff": 15
           },
           "zerolinecolor": "white",
           "zerolinewidth": 2
          },
          "yaxis": {
           "automargin": true,
           "gridcolor": "white",
           "linecolor": "white",
           "ticks": "",
           "title": {
            "standoff": 15
           },
           "zerolinecolor": "white",
           "zerolinewidth": 2
          }
         }
        }
       }
      }
     },
     "metadata": {},
     "output_type": "display_data"
    }
   ],
   "source": [
    "import plotly.graph_objects as go\n",
    "import numpy as np\n",
    "\n",
    "def interpolate(n,x1,x2,num=50):\n",
    "  x = np.linspace(x1,x2,num)\n",
    "  m = (x2**n - x1**n)/(x2 - x1)\n",
    "  c = x1**n - m*x1\n",
    "  y = m*x+c\n",
    "  return({'x':x,'y':y})\n",
    "\n",
    "n=3\n",
    "actual = {'x': np.arange(0,4,0.1)}\n",
    "actual['y'] = actual['x']**n\n",
    "lb, ub = 1, [3.5,3,2]\n",
    "lin0 = interpolate(n,lb,ub[0])\n",
    "lin1 = interpolate(n,lb,ub[1])\n",
    "lin2 = interpolate(n,lb,ub[2])\n",
    "\n",
    "fig = go.Figure(data = go.Scatter(mode='lines'))\n",
    "fig.add_trace( go.Scatter( x=actual['x'], y=actual['y'], line=dict(dash='solid'), name=f\"f(x)=x^{n}\" ))\n",
    "fig.add_trace( go.Scatter( x=lin0['x'], y=lin0['y'], name=f\"f({lb}) -> f({ub[0]})\", line=dict(dash='dot') ))\n",
    "fig.add_trace( go.Scatter( x=lin1['x'], y=lin1['y'], name=f\"f({lb}) -> f({ub[1]})\", line=dict(dash='dot') ))\n",
    "fig.add_trace( go.Scatter( x=lin2['x'], y=lin2['y'], name=f\"f({lb}) -> f({ub[2]})\", line=dict(dash='dot') ))\n",
    "fig.show()"
   ]
  },
  {
   "cell_type": "markdown",
   "metadata": {},
   "source": [
    "![Illustrative graph](docs/differentation/differentiation_plot.png \"Graph\")"
   ]
  },
  {
   "cell_type": "markdown",
   "metadata": {},
   "source": [
    "\n",
    "Consequently, we want to determine the gradient at the limit i.e. where $a \\rightarrow x$, to get the true gradient.\n",
    "\n",
    "First though, let's factor out the $x-a$ term for simplicity. Let's derive a generic formula for this:\n",
    "\n",
    "* If $n=2$, then $x^2-a^2 = (x-a)(x+a)$\n",
    "* If $n=3$, then $x^3-a^3 = (x-a)(x^2+xa+a^2)$\n",
    "* If $n=4$, then $x^4-a^4 = (x-a)(x^3+x^2a+xa^2+a^3)$\n",
    "* If $n=5$, then $x^5-a^5 = (x-a)(x^4+x^3a+x^2a^2+xa^3+a^4)$\n",
    "* And so on. In fact for any $n$, we can derive $x^n-a^n = \\sum_{i=1}^n \\left( x^{n-i}a^{i-1} \\right)$\n",
    "\n",
    "And we can now sub that into our formula, and the $x-a$ cancels out:\n",
    "\n",
    "$$\n",
    "\\frac{x^n-a^n}{x-a} = \n",
    "\\frac{x-a}{x-a} \\sum_{i=1}^n \\left( x^{n-i}a^{i-1} \\right) = \n",
    "\\sum_{i=1}^n \\left( x^{n-i}a^{i-1} \\right)\n",
    "$$"
   ]
  },
  {
   "cell_type": "markdown",
   "metadata": {},
   "source": [
    "And now let's calculate the result in the limit, where $x$ approaches $a$:\n",
    "\n",
    "$$\n",
    "\\lim_{x \\rightarrow a} \\sum_{i=1}^n \\left( x^{n-i}a^{i-1} \\right) \\sim\n",
    "\\sum_{i=1}^n \\left( a^{n-i}a^{i-1} \\right) = \n",
    "\\sum_{i=1}^n \\left( a^{n-1} \\right) = \n",
    "na^{n-1}\n",
    "$$\n",
    "\n",
    "Hence $\\frac{d}{dx} \\left(x^{n} \\right) = nx^{n-1}$."
   ]
  },
  {
   "cell_type": "markdown",
   "metadata": {},
   "source": [
    "Fin."
   ]
  }
 ],
 "metadata": {
  "kernelspec": {
   "display_name": "Python 3",
   "language": "python",
   "name": "python3"
  },
  "language_info": {
   "codemirror_mode": {
    "name": "ipython",
    "version": 3
   },
   "file_extension": ".py",
   "mimetype": "text/x-python",
   "name": "python",
   "nbconvert_exporter": "python",
   "pygments_lexer": "ipython3",
   "version": "3.12.2"
  }
 },
 "nbformat": 4,
 "nbformat_minor": 2
}
