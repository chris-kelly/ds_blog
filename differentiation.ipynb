{
 "cells": [
  {
   "cell_type": "markdown",
   "metadata": {},
   "source": [
    "# Why is $\\frac{d}{dx} \\left(x^{n} \\right) = nx^{n-1}$ ?"
   ]
  },
  {
   "cell_type": "markdown",
   "metadata": {},
   "source": [
    "We can think of the gradient between two points, $x$ and $a$, as being equal to the change in the y axis divided by the change in the x axis, i.e.\n",
    "\n",
    "$$\n",
    "\\frac{\\Delta y}{\\Delta x} =\n",
    "\\frac{f(x)-f(a)}{x-a} = \n",
    "\\frac{x^n-a^n}{x-a}\n",
    "$$\n",
    "\n",
    "This isn't quite exact - there is a gap between this linear approximation and the exact curve. However, the smaller the movement across the x-axis, the closer the approximation is to the actual curve."
   ]
  },
  {
   "cell_type": "markdown",
   "metadata": {},
   "source": [
    "For example, in the graph below, the line drawn between $f(1)$ and $f(2)$ is closer to the gradient at $f(1)$ of the true curve, compared to the line drawn between $f(1)$ and $f(3)$."
   ]
  },
  {
   "cell_type": "markdown",
   "metadata": {},
   "source": [
    "![Illustrative graph](docs/differentation/differentiation_plot.png \"Graph\")"
   ]
  },
  {
   "cell_type": "markdown",
   "metadata": {},
   "source": [
    "\n",
    "Consequently, we want to determine the gradient at the limit i.e. where $a \\rightarrow x$, to get the true gradient.\n",
    "\n",
    "First though, let's factor out the $x-a$ term for simplicity. Let's derive a generic formula for this:\n",
    "\n",
    "* If $n=2$, then $x^2-a^2 = (x-a)(x+a)$\n",
    "* If $n=3$, then $x^3-a^3 = (x-a)(x^2+xa+a^2)$\n",
    "* If $n=4$, then $x^4-a^4 = (x-a)(x^3+x^2a+xa^2+a^3)$\n",
    "* If $n=5$, then $x^5-a^5 = (x-a)(x^4+x^3a+x^2a^2+xa^3+a^4)$\n",
    "* And so on. In fact for any $n$, we can derive $x^n-a^n = \\sum_{i=1}^n \\left( x^{n-i}a^{i-1} \\right)$\n",
    "\n",
    "And we can now sub that into our formula, and the $x-a$ cancels out:\n",
    "\n",
    "$$\n",
    "\\frac{x^n-a^n}{x-a} = \n",
    "\\frac{x-a}{x-a} \\sum_{i=1}^n \\left( x^{n-i}a^{i-1} \\right) = \n",
    "\\sum_{i=1}^n \\left( x^{n-i}a^{i-1} \\right)\n",
    "$$"
   ]
  },
  {
   "cell_type": "markdown",
   "metadata": {},
   "source": [
    "And now let's calculate the result in the limit, where $x$ approaches $a$:\n",
    "\n",
    "$$\n",
    "\\lim_{x \\rightarrow a} \\sum_{i=1}^n \\left( x^{n-i}a^{i-1} \\right) \\sim\n",
    "\\sum_{i=1}^n \\left( a^{n-i}a^{i-1} \\right) = \n",
    "\\sum_{i=1}^n \\left( a^{n-1} \\right) = \n",
    "na^{n-1}\n",
    "$$\n",
    "\n",
    "Hence $\\frac{d}{dx} \\left(x^{n} \\right) = nx^{n-1}$."
   ]
  },
  {
   "cell_type": "markdown",
   "metadata": {},
   "source": [
    "Fin."
   ]
  }
 ],
 "metadata": {
  "kernelspec": {
   "display_name": "Python 3",
   "language": "python",
   "name": "python3"
  },
  "language_info": {
   "codemirror_mode": {
    "name": "ipython",
    "version": 3
   },
   "file_extension": ".py",
   "mimetype": "text/x-python",
   "name": "python",
   "nbconvert_exporter": "python",
   "pygments_lexer": "ipython3",
   "version": "3.12.2"
  }
 },
 "nbformat": 4,
 "nbformat_minor": 2
}
